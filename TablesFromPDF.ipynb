{
  "nbformat": 4,
  "nbformat_minor": 0,
  "metadata": {
    "colab": {
      "name": "Untitled132.ipynb",
      "provenance": [],
      "authorship_tag": "ABX9TyO7yUTcT7txizAPXfv4M+QQ",
      "include_colab_link": true
    },
    "kernelspec": {
      "name": "python3",
      "display_name": "Python 3"
    },
    "language_info": {
      "name": "python"
    }
  },
  "cells": [
    {
      "cell_type": "markdown",
      "metadata": {
        "id": "view-in-github",
        "colab_type": "text"
      },
      "source": [
        "<a href=\"https://colab.research.google.com/github/srahul101082/text-analytics-with-python/blob/master/TablesFromPDF.ipynb\" target=\"_parent\"><img src=\"https://colab.research.google.com/assets/colab-badge.svg\" alt=\"Open In Colab\"/></a>"
      ]
    },
    {
      "cell_type": "code",
      "metadata": {
        "id": "6slZGa_q5D_t"
      },
      "source": [
        "#!pip install tabula-py\n"
      ],
      "execution_count": 5,
      "outputs": []
    },
    {
      "cell_type": "code",
      "metadata": {
        "id": "E1_8dCCK5Wgt"
      },
      "source": [
        "from tabula import read_pdf\n",
        "from tabula import convert_into\n",
        "from tabulate import tabulate\n"
      ],
      "execution_count": 6,
      "outputs": []
    },
    {
      "cell_type": "code",
      "metadata": {
        "colab": {
          "base_uri": "https://localhost:8080/"
        },
        "id": "hSbFkxz45q9j",
        "outputId": "dfb515ea-e82d-4f0b-e58c-312eb830055b"
      },
      "source": [
        "df=read_pdf(\"/content/PDF_For_Table_Extractions.pdf\",pages='all',multiple_tables=True, stream=True,encoding='ISO-8859-1',pandas_options={'header':None} )\n",
        "print(\"Total Number of tables Found :\",  len(df))"
      ],
      "execution_count": 7,
      "outputs": [
        {
          "output_type": "stream",
          "text": [
            "Got stderr: May 11, 2021 10:19:57 AM org.apache.pdfbox.pdmodel.font.FileSystemFontProvider loadDiskCache\n",
            "WARNING: New fonts found, font cache will be re-built\n",
            "May 11, 2021 10:19:57 AM org.apache.pdfbox.pdmodel.font.FileSystemFontProvider <init>\n",
            "WARNING: Building on-disk font cache, this may take a while\n",
            "May 11, 2021 10:19:57 AM org.apache.pdfbox.pdmodel.font.FileSystemFontProvider <init>\n",
            "WARNING: Finished building on-disk font cache, found 17 fonts\n",
            "May 11, 2021 10:19:58 AM org.apache.pdfbox.pdmodel.font.PDType1Font <init>\n",
            "WARNING: Using fallback font LiberationSans for base font Symbol\n",
            "May 11, 2021 10:19:58 AM org.apache.pdfbox.pdmodel.font.PDType1Font <init>\n",
            "WARNING: Using fallback font LiberationSans for base font ZapfDingbats\n",
            "May 11, 2021 10:19:58 AM org.apache.pdfbox.pdmodel.font.PDType1Font <init>\n",
            "WARNING: Using fallback font LiberationSans-Bold for IBMPlexSans-Bold\n",
            "May 11, 2021 10:19:58 AM org.apache.pdfbox.pdmodel.font.PDType1Font <init>\n",
            "WARNING: Using fallback font LiberationSans for IBMPlexSans\n",
            "May 11, 2021 10:20:00 AM org.apache.pdfbox.pdmodel.font.PDType1Font <init>\n",
            "WARNING: Using fallback font LiberationSans-Bold for IBMPlexSans-Bold\n",
            "May 11, 2021 10:20:00 AM org.apache.pdfbox.pdmodel.font.PDType1Font <init>\n",
            "WARNING: Using fallback font LiberationSans for IBMPlexSans\n",
            "\n"
          ],
          "name": "stderr"
        },
        {
          "output_type": "stream",
          "text": [
            "Total Number of tables Found : 2\n"
          ],
          "name": "stdout"
        }
      ]
    },
    {
      "cell_type": "code",
      "metadata": {
        "colab": {
          "base_uri": "https://localhost:8080/"
        },
        "id": "sLuyFNPm6q7S",
        "outputId": "88ff361e-e451-4cdc-bf8b-32e04115e6a8"
      },
      "source": [
        "i=0\n",
        "for table in df:\n",
        "    table.to_csv('table'+str(i)+'.csv', index=False)\n",
        "    print(tabulate(table))\n",
        "    i=i+1\n",
        "    \n"
      ],
      "execution_count": 8,
      "outputs": [
        {
          "output_type": "stream",
          "text": [
            "--  -------  -----------------  ---------  ------------------------------\n",
            " 0  Sr. No.  Date               Day        Description\n",
            " 1  1        January 26,2021    Tuesday    Republic Day\n",
            " 2  2        March 11,2021      Thursday   Mahashivratri\n",
            " 3  3        March 29,2021      Monday     Holi\n",
            " 4  4        April 02,2021      Friday     Good Friday\n",
            " 5  5        April 14,2021      Wednesday  Dr.Baba Saheb Ambedkar Jayanti\n",
            " 6  6        April 21,2021      Wednesday  Ram Navami\n",
            " 7  7        May 13,2021        Thursday   Id-Ul-Fitr (Ramzan ID)\n",
            " 8  8        July 21,2021       Wednesday  Bakri Id\n",
            " 9  9        August 19,2021     Thursday   Moharram\n",
            "10  10       September 10,2021  Friday     Ganesh Chaturthi\n",
            "11  11       October 15,2021    Friday     Dussehra\n",
            "12  12       November 04,2021   Thursday   Diwali-Laxmi Pujan*\n",
            "13  13       November 05,2021   Friday     Diwali-Balipratipada\n",
            "14  14       November 19,2021   Friday     Gurunanak Jayanti\n",
            "--  -------  -----------------  ---------  ------------------------------\n",
            "-  -------  ----------------  --------  ----------------------\n",
            "0  Sr. No.  Date              Day       Description\n",
            "1  1        April 25,2021     Sunday    Mahavir Jayanti\n",
            "2  2        May 01,2021       Saturday  Maharashtra Day\n",
            "3  3        August 15,2021    Sunday    Independence Day\n",
            "4  4        October 02,2021   Saturday  Mahatma Gandhi Jayanti\n",
            "5  5        December 25,2021  Saturday  Christmas\n",
            "-  -------  ----------------  --------  ----------------------\n"
          ],
          "name": "stdout"
        }
      ]
    }
  ]
}