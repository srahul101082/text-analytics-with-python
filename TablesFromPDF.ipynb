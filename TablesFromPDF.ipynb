{
  "nbformat": 4,
  "nbformat_minor": 0,
  "metadata": {
    "colab": {
      "name": "TablesFromPDF.ipynb",
      "provenance": [],
      "authorship_tag": "ABX9TyP+2NVTXqQZX8362bEnnHWE",
      "include_colab_link": true
    },
    "kernelspec": {
      "name": "python3",
      "display_name": "Python 3"
    },
    "language_info": {
      "name": "python"
    }
  },
  "cells": [
    {
      "cell_type": "markdown",
      "metadata": {
        "id": "view-in-github",
        "colab_type": "text"
      },
      "source": [
        "<a href=\"https://colab.research.google.com/github/srahul101082/text-analytics-with-python/blob/master/TablesFromPDF.ipynb\" target=\"_parent\"><img src=\"https://colab.research.google.com/assets/colab-badge.svg\" alt=\"Open In Colab\"/></a>"
      ]
    },
    {
      "cell_type": "code",
      "metadata": {
        "id": "6slZGa_q5D_t"
      },
      "source": [
        "#!pip install tabula-py\n"
      ],
      "execution_count": 9,
      "outputs": []
    },
    {
      "cell_type": "code",
      "metadata": {
        "id": "E1_8dCCK5Wgt"
      },
      "source": [
        "from tabula import read_pdf\n",
        "from tabula import convert_into\n",
        "from tabulate import tabulate\n"
      ],
      "execution_count": 10,
      "outputs": []
    },
    {
      "cell_type": "code",
      "metadata": {
        "colab": {
          "base_uri": "https://localhost:8080/"
        },
        "id": "hSbFkxz45q9j",
        "outputId": "679288eb-bf0d-4d77-a8a4-e796275a23e8"
      },
      "source": [
        "df=read_pdf(\"/content/Real_Time_Tariff_Domestic_01042020.pdf\",pages='all',multiple_tables=True, stream=True,encoding='ISO-8859-1',pandas_options={'header':None} )\n",
        "print(\"Total Number of tables Found :\",  len(df))"
      ],
      "execution_count": 11,
      "outputs": [
        {
          "output_type": "stream",
          "text": [
            "Total Number of tables Found : 7\n"
          ],
          "name": "stdout"
        }
      ]
    },
    {
      "cell_type": "code",
      "metadata": {
        "colab": {
          "base_uri": "https://localhost:8080/"
        },
        "id": "sLuyFNPm6q7S",
        "outputId": "c3f413b7-cacf-4a52-91d8-b47437d60858"
      },
      "source": [
        "i=0\n",
        "for table in df:\n",
        "    table.to_csv('table'+str(i)+'.csv', index=False)\n",
        "    print(tabulate(table))\n",
        "    i=i+1\n",
        "    \n"
      ],
      "execution_count": 12,
      "outputs": [
        {
          "output_type": "stream",
          "text": [
            "--  ----------------  ------------------  --------------------  ---  ---------------------------\n",
            " 0  nan               nan                 Fixed fees            nan  Variable fees per month\n",
            " 1  nan               nan                 nan                   nan  (Rs.)\n",
            " 2  Segment           Usage Details       per annum             nan  nan\n",
            " 3  nan               nan                 Domestic (Rs. Lakhs)  nan  International\n",
            " 4  nan               nan                 nan                   nan  End User End User\n",
            " 5  nan               Terminals           19.0                  nan  1,300 800\n",
            " 6  nan               nan                 nan                   nan  nan\n",
            " 7  nan               Software/ Charting  19.0                  nan  950 600\n",
            " 8  Capital Market    Application         nan                   nan  nan\n",
            " 9  (Excluding        Open Website        21.0                  nan  NIL\n",
            "10  Indices)          nan                 nan                   nan  nan\n",
            "11  nan               Mobile Phones       nan                   nan  nan\n",
            "12  nan               nan                 11.0                  nan  10% Revenue sharing\n",
            "13  nan               (paid user app)     nan                   nan  subject to minimum of Rs 11\n",
            "14  nan               nan                 nan                   nan  Lakhs per annum\n",
            "15  nan               Mobile Phones       nan                   nan  nan\n",
            "16  nan               nan                 21.0                  nan  NIL\n",
            "17  nan               (free to user app)  nan                   nan  nan\n",
            "18  nan               nan                 nan                   nan  nan\n",
            "19  nan               Terminals           19.0                  nan  1,300 800\n",
            "20  nan               Software/ Charting  nan                   nan  nan\n",
            "21  nan               Application         19.0                  nan  950 600\n",
            "22  Future & Options  nan                 nan                   nan  nan\n",
            "23  nan               Open Website        21.0                  nan  NIL\n",
            "24  nan               Mobile Phones       nan                   nan  nan\n",
            "25  nan               nan                 11.0                  nan  10% Revenue sharing\n",
            "26  nan               (paid user app)     nan                   nan  subject to minimum of Rs 11\n",
            "27  nan               nan                 nan                   nan  Lakhs per annum\n",
            "28  nan               Mobile Phones       nan                   nan  nan\n",
            "29  nan               nan                 21.0                  nan  NIL\n",
            "30  nan               (free to user app)  nan                   nan  nan\n",
            "31  nan               Terminals           6.0                   nan  600 350\n",
            "32  nan               nan                 nan                   nan  nan\n",
            "33  nan               Software/ Charting  6.0                   nan  425 250\n",
            "34  nan               Application         nan                   nan  nan\n",
            "35  Currency          nan                 nan                   nan  nan\n",
            "36  nan               Open Website        5.45                  nan  NIL\n",
            "37  Derivatives       nan                 nan                   nan  nan\n",
            "38  nan               Mobile Phones       nan                   nan  Revenue share of 20% net of\n",
            "39  nan               nan                 3.35                  nan  nan\n",
            "40  nan               (paid user app)     nan                   nan  taxes\n",
            "41  nan               Mobile Phones       nan                   nan  nan\n",
            "42  nan               nan                 5.45                  nan  NIL\n",
            "43  nan               (free to user app)  nan                   nan  nan\n",
            "44  nan               nan                 nan                   nan  nan\n",
            "45  WDM               nan                 3.25                  nan  NIL\n",
            "--  ----------------  ------------------  --------------------  ---  ---------------------------\n",
            "--  --------------------  ------------------  --------------------\n",
            " 0  nan                   nan                 nan\n",
            " 1  nan                   nan                 Fixed fees per annum\n",
            " 2  Segment (Level 1)     Usage Details       nan\n",
            " 3  nan                   nan                 (Rs. Lakhs)\n",
            " 4  nan                   TV Channels         21.00\n",
            " 5  Capital Market        nan                 nan\n",
            " 6  (Excluding Indices)   Additional Channel  5.25\n",
            " 7  nan                   TV Channels         21.00\n",
            " 8  Future & Options      nan                 nan\n",
            " 9  nan                   Additional Channel  5.25\n",
            "10  nan                   TV Channels         5.45\n",
            "11  Currency Derivatives  nan                 nan\n",
            "12  nan                   Additional Channel  1.35\n",
            "13  nan                   TV Channels         3.00\n",
            "14  WDM                   nan                 nan\n",
            "15  nan                   Additional Channel  0.75\n",
            "--  --------------------  ------------------  --------------------\n",
            "-  --------------------  -----------------------------  ---\n",
            "0  nan                   Variable fees per month (Rs.)  nan\n",
            "1  Fixed fees per annum  nan                            nan\n",
            "2  nan                   Domestic                       nan\n",
            "3  (Rs. Lakhs)           International End User         nan\n",
            "4  nan                   End User                       nan\n",
            "5  3.0                   400                            200\n",
            "-  --------------------  -----------------------------  ---\n",
            "--  ----------------  ------------------  -----------  -----------------------------\n",
            " 0  nan               nan                 Fixed fees   Variable fees per month (Rs.)\n",
            " 1  Segment           Category            per annum    International Domestic\n",
            " 2  nan               nan                 (Rs. Lakhs)  End User End User\n",
            " 3  Capital Market    Terminals           30.0         1,850 1,150\n",
            " 4  (Excluding        Software/ Charting  nan          nan\n",
            " 5  Indices)          Application         30.0         1,600 1,000\n",
            " 6  nan               Terminals           30.0         1,850 1,150\n",
            " 7  Future & Options  nan                 nan          nan\n",
            " 8  nan               Software/ Charting  nan          nan\n",
            " 9  nan               nan                 30.0         1,600 1,000\n",
            "10  nan               Application         nan          nan\n",
            "11  nan               Terminals           12.0         800 550\n",
            "12  Currency          nan                 nan          nan\n",
            "13  Derivative        Software/ Charting  12.0         650 500\n",
            "14  nan               Application         nan          nan\n",
            "--  ----------------  ------------------  -----------  -----------------------------\n",
            "-  --------------  ------------------  -----------  ---  -----------------------------\n",
            "0  nan             nan                 Fixed fees   nan  Variable fees per month (Rs.)\n",
            "1  Segment         Category            per annum    nan  International Domestic\n",
            "2  nan             nan                 (Rs. Lakhs)  nan  End User End User\n",
            "3  Capital Market  Terminals           32.0         nan  2,000 1,300\n",
            "4  (Excluding      Software/ Charting  nan          nan  nan\n",
            "5  Indices)        Application         32.0         nan  1,800 1,150\n",
            "-  --------------  ------------------  -----------  ---  -----------------------------\n",
            "--  --------------  ------------------  -----------  ---  -----------------------------\n",
            " 0  nan             nan                 Fixed fees   nan  Variable fees per month (Rs.)\n",
            " 1  Segment         Category            per annum    nan  International Domestic End\n",
            " 2  nan             nan                 (Rs. Lakhs)  nan  End User User\n",
            " 3  Capital Market  Terminals           40.0         nan  2,400 1,500\n",
            " 4  (Excluding      Software/ Charting  nan          nan  nan\n",
            " 5  Indices)        Application         40.0         nan  1,900 1,200\n",
            " 6  nan             Terminals           13.0         nan  950 650\n",
            " 7  Currency        nan                 nan          nan  nan\n",
            " 8  Derivative      nan                 nan          nan  nan\n",
            " 9  nan             Software/ Charting  nan          nan  nan\n",
            "10  nan             nan                 13.0         nan  850 600\n",
            "11  nan             Application         nan          nan  nan\n",
            "--  --------------  ------------------  -----------  ---  -----------------------------\n",
            "-  ---------------------------  -------------------\n",
            "0  Segment                      Fee per annum (Rs.)\n",
            "1  Back-up Link - All segments  200,000 per line\n",
            "-  ---------------------------  -------------------\n"
          ],
          "name": "stdout"
        }
      ]
    }
  ]
}